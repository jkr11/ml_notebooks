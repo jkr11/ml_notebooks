{
 "cells": [
  {
   "cell_type": "code",
   "execution_count": 5,
   "metadata": {},
   "outputs": [],
   "source": [
    "import torch\n",
    "import torch.nn as nn\n",
    "import numpy as np \n",
    "from typing import Tuple, Optional\n",
    "import math"
   ]
  },
  {
   "cell_type": "code",
   "execution_count": null,
   "metadata": {},
   "outputs": [],
   "source": [
    "def scaled_dot_product_attention(Q, K, V, mask:Optional[torch.tensor]=None, dropout_v:float=0.0) -> torch.tensor:\n",
    "    \"\"\"Attention = softmax(QK^T / d_k^(1/2))V\"\"\"\n",
    "    scores = torch.matmul(Q, K.transpose(-2,-1)) / math.sqrt(Q.shape[-1])\n",
    "    return torch.softmax((scores+mask) if mask is not None else scores).dropout(dropout_v) @ V\n"
   ]
  },
  {
   "cell_type": "code",
   "execution_count": 53,
   "metadata": {},
   "outputs": [
    {
     "name": "stdout",
     "output_type": "stream",
     "text": [
      "elapsed time: 1.0814610000124958 ms\n",
      "elapsed time MM: 0.1334959999894636 ms\n"
     ]
    }
   ],
   "source": [
    "import time\n",
    "\n",
    "def test():\n",
    "    A = torch.rand(64, 64)\n",
    "    B = torch.rand(64, 64)\n",
    "    st = time.perf_counter()\n",
    "    C = A @ B.T\n",
    "    et = time.perf_counter() -  st\n",
    "    print(f\"elapsed time: {et*1000} ms\")\n",
    "\n",
    "def test2():\n",
    "    A = torch.rand(64, 64)\n",
    "    B = torch.rand(64, 64)\n",
    "    sst = time.perf_counter()\n",
    "    C = torch.matmul(A, B.transpose(-2, -1))\n",
    "    eet = time.perf_counter() - sst\n",
    "    print(f\"elapsed time MM: {eet*1000} ms\")\n",
    "\n",
    "test()\n",
    "test2()"
   ]
  },
  {
   "cell_type": "code",
   "execution_count": null,
   "metadata": {},
   "outputs": [],
   "source": [
    "# glow version\n",
    "\n",
    "def softmax(x):\n",
    "    xx = x - x.max(axis=-1)\n",
    "    return xx.exp().div(xx.exp().sum(axis=-1))\n",
    "\n",
    "def qkv(self, Q:Tensor, K:Tensor, V:Tensor, mask:Optional[Tensor])"
   ]
  },
  {
   "cell_type": "code",
   "execution_count": null,
   "metadata": {},
   "outputs": [],
   "source": []
  }
 ],
 "metadata": {
  "kernelspec": {
   "display_name": "Python 3",
   "language": "python",
   "name": "python3"
  },
  "language_info": {
   "codemirror_mode": {
    "name": "ipython",
    "version": 3
   },
   "file_extension": ".py",
   "mimetype": "text/x-python",
   "name": "python",
   "nbconvert_exporter": "python",
   "pygments_lexer": "ipython3",
   "version": "3.10.12"
  }
 },
 "nbformat": 4,
 "nbformat_minor": 2
}
