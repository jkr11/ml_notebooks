{
 "cells": [
  {
   "cell_type": "code",
   "execution_count": 4,
   "metadata": {},
   "outputs": [],
   "source": [
    "%matplotlib inline\n",
    "import os\n",
    "import numpy as np"
   ]
  },
  {
   "cell_type": "code",
   "execution_count": 89,
   "metadata": {},
   "outputs": [],
   "source": [
    "NUM_ACTIONS = 3\n",
    "\n",
    "\n",
    "regret_sum = np.zeros(NUM_ACTIONS, np.float64)\n",
    "strategy = np.zeros(NUM_ACTIONS, np.float64)\n",
    "strategy_sum = np.zeros(NUM_ACTIONS, np.float64)\n",
    "opp_strategy = np.array([0.4, 0.3, 0.3])\n"
   ]
  },
  {
   "cell_type": "code",
   "execution_count": 90,
   "metadata": {},
   "outputs": [],
   "source": [
    "def get_strategy():\n",
    "    global regret_sum, strategy_sum\n",
    "    norm_sum = 0\n",
    "    strategy = np.maximum(regret_sum, 0)\n",
    "    norm_sum = np.sum(strategy)\n",
    "    if norm_sum > 0:\n",
    "        strategy /= norm_sum\n",
    "    else:\n",
    "        strategy = np.ones(NUM_ACTIONS) / NUM_ACTIONS\n",
    "    strategy_sum += strategy\n",
    "    return strategy\n",
    "    \n"
   ]
  },
  {
   "cell_type": "code",
   "execution_count": 91,
   "metadata": {},
   "outputs": [
    {
     "data": {
      "text/plain": [
       "array([0.33333333, 0.33333333, 0.33333333])"
      ]
     },
     "execution_count": 91,
     "metadata": {},
     "output_type": "execute_result"
    }
   ],
   "source": [
    "get_strategy()"
   ]
  },
  {
   "cell_type": "code",
   "execution_count": 93,
   "metadata": {},
   "outputs": [
    {
     "data": {
      "text/plain": [
       "[<matplotlib.lines.Line2D at 0x7fce0cf343a0>]"
      ]
     },
     "execution_count": 93,
     "metadata": {},
     "output_type": "execute_result"
    },
    {
     "data": {
      "image/png": "[encoded data removed]",
      "text/plain": [
       "<Figure size 640x480 with 1 Axes>"
      ]
     },
     "metadata": {},
     "output_type": "display_data"
    }
   ],
   "source": [
    "import random\n",
    "def get_action(strategy):\n",
    "    r = random.random()\n",
    "    rr = np.random.uniform()\n",
    "    #print(r)\n",
    "    #strategy / np.sum(strategy)\n",
    "    return np.searchsorted(np.cumsum(strategy) , r)\n",
    "\n",
    "a = [get_action(get_strategy()) for i in range(100)]\n",
    "plot(sorted(a))"
   ]
  },
  {
   "cell_type": "code",
   "execution_count": 110,
   "metadata": {},
   "outputs": [],
   "source": [
    "\n",
    "def train(epochs):\n",
    "    global regret_sum, strategy_sum\n",
    "    uu = 0\n",
    "    action_utility = np.zeros(NUM_ACTIONS)\n",
    "    for i in range(epochs):\n",
    "        strategy = get_strategy()\n",
    "        strategy_sum += strategy\n",
    "        my_action = get_action(strategy)\n",
    "        other_action = get_action(opp_strategy)\n",
    "        action_utility[other_action] = 0\n",
    "        action_utility[(other_action + 1) % NUM_ACTIONS] = 1\n",
    "        action_utility[(other_action - 1) % NUM_ACTIONS] = -1\n",
    "        regret_sum += action_utility - action_utility[my_action]\n",
    "    return strategy_sum\n",
    "        \n",
    "\n",
    "def get_average_strategy():\n",
    "    global regret_sum, strategy_sum\n",
    "    avg_strat = np.array(NUM_ACTIONS, np.float64)\n",
    "    normsum = np.sum(strategy_sum)\n",
    "    if normsum > 0:\n",
    "        avg_strat = strategy_sum / normsum\n",
    "    else:\n",
    "        avg_strat = 1.0 * np.ones(NUM_ACTIONS) / NUM_ACTIONS\n",
    "    return avg_strat\n",
    "\n",
    "\n",
    "strategy_sum = train(100000)\n"
   ]
  },
  {
   "cell_type": "code",
   "execution_count": 111,
   "metadata": {},
   "outputs": [
    {
     "data": {
      "text/plain": [
       "array([0.0001016 , 0.99980334, 0.00009506])"
      ]
     },
     "execution_count": 111,
     "metadata": {},
     "output_type": "execute_result"
    }
   ],
   "source": [
    "np.set_printoptions(suppress=True)\n",
    "\n",
    "get_average_strategy()"
   ]
  },
  {
   "cell_type": "code",
   "execution_count": 99,
   "metadata": {},
   "outputs": [
    {
     "data": {
      "text/plain": [
       "([<matplotlib.lines.Line2D at 0x7fce0ce505e0>], 10.15)"
      ]
     },
     "execution_count": 99,
     "metadata": {},
     "output_type": "execute_result"
    },
    {
     "data": {
      "image/png": "[encoded data removed]",
      "text/plain": [
       "<Figure size 640x480 with 1 Axes>"
      ]
     },
     "metadata": {},
     "output_type": "display_data"
    }
   ],
   "source": [
    "def utility(p1, p2):\n",
    "    if p1 == p2:\n",
    "        return 0\n",
    "    elif p1 == 2 and p2 == 1:\n",
    "        return 1\n",
    "    elif p1 == 0 and p2 == 2:\n",
    "        return 1\n",
    "    elif p1 == 1 and p2 == 0:\n",
    "        return 1\n",
    "    else: \n",
    "        return -1\n",
    "    \n",
    "\n",
    "uuu = []\n",
    "for j in range(200):\n",
    "    uu = 0\n",
    "    for i in range(100):\n",
    "        strategy = get_strategy()\n",
    "        #strategy = np.array([0,1,0])\n",
    "        my_action = get_action(strategy)\n",
    "        other_action = get_action(opp_strategy)\n",
    "        uu += utility(my_action, other_action)\n",
    "    uuu.append(uu)\n",
    "plot(sorted(uuu)), np.mean(uuu)\n",
    "\n",
    "\n",
    "\n"
   ]
  },
  {
   "cell_type": "code",
   "execution_count": null,
   "metadata": {},
   "outputs": [],
   "source": []
  },
  {
   "cell_type": "code",
   "execution_count": null,
   "metadata": {},
   "outputs": [],
   "source": []
  }
 ],
 "metadata": {
  "kernelspec": {
   "display_name": "Python 3",
   "language": "python",
   "name": "python3"
  },
  "language_info": {
   "codemirror_mode": {
    "name": "ipython",
    "version": 3
   },
   "file_extension": ".py",
   "mimetype": "text/x-python",
   "name": "python",
   "nbconvert_exporter": "python",
   "pygments_lexer": "ipython3",
   "version": "3.10.12"
  }
 },
 "nbformat": 4,
 "nbformat_minor": 2
}
