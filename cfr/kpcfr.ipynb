{
 "cells": [
  {
   "cell_type": "code",
   "execution_count": 15,
   "metadata": {},
   "outputs": [
    {
     "data": {
      "text/plain": [
       "'\\ndef cfr(s,h,i,t,p1,p2): # i = 1 or 2\\n    if terminal(h):\\n        return payout(s,h) * (1 if i == 1 else -1)\\n    I = historyInf(s,h)\\n    ph = 2 if len(h) == 1 else 1\\n    v0 = 0\\n    v0a = {}\\n    for a in actions:\\n        if ph == 1:\\n            v0a[a] = cfr(h,i,t,sigma[t][I][a] * p1, p2)\\n        elif ph == 2:\\n            v0a[a] = cfr(h,i,t,p1,sigma[t][I][a] * p2)\\n        v0 += sigma[t][I][a] * v0a[a]\\n    if ph == i:\\n        for a in actions:\\n'"
      ]
     },
     "execution_count": 15,
     "metadata": {},
     "output_type": "execute_result"
    }
   ],
   "source": [
    "\"\"\"Kuhn Poker: a:1 -> c:1 | b:1\n",
    "    c -> c | b\n",
    "    cards: 1,2,3\n",
    "    players: 1,2\n",
    "    decks: 6 [[1,2],[1,3],[2,1],[2,3],[3,1],[3,2]]\n",
    "    pot: 3\n",
    "    poss: \n",
    "    r1\n",
    "    p1 1 : [2,3] \n",
    "    p1 2 : [1,3]\n",
    "    p1 3 : [1,2]\n",
    "    r2\n",
    "    p2 1 : p1 c [2,3] \n",
    "    p2 1 : p1 b [2,3] \n",
    "    p2 2 : p1 c [1,3]\n",
    "    p2 2 : p1 b [1,3]\n",
    "    p2 3 : p1 c [1,2]\n",
    "    p2 3 : p1 b [1,2]\n",
    "    r3\n",
    "    p1 \n",
    "    \n",
    "\"\"\"\n",
    "actions = [\"P\",\"B\"]\n",
    "cards = [1,2,3] # [A,K,Q]\n",
    "# terminal = [\"BP\",\"BBP\",\"PP\",\"PBB\",\"BB\"]\n",
    "\n",
    "def terminal(h):\n",
    "    if len(h) <= 2:\n",
    "        return False\n",
    "    if h[-1] == \"P\":\n",
    "        return True\n",
    "    if h[-2:] == \"BB\":\n",
    "        return True\n",
    "    else: return False\n",
    "\n",
    "\n",
    "def payout(s,h):\n",
    "    if terminal(h):\n",
    "        if (h == \"PP\"):\n",
    "            return 1 if s[0] > s[1] else -1\n",
    "        if h[-2:] == \"BB\": # double bet \n",
    "            return 2 if s[0] > s[1] else -2\n",
    "        if h == \"BP\":\n",
    "            return 1\n",
    "        if h == \"PBP\":\n",
    "            return -1\n",
    "        else:\n",
    "            return 1\n",
    "    \n",
    "def historyInf(s,h):\n",
    "    assert not terminal(h)\n",
    "    if h == \"\":\n",
    "        return str(s[0]) \n",
    "    elif len(h) == 1:\n",
    "        return h.append(str[1])\n",
    "    else:\n",
    "        return \"PB\" + str(s[0])\n",
    "    assert false\n",
    "\n",
    "\n",
    "\"\"\"\n",
    "def cfr(s,h,i,t,p1,p2): # i = 1 or 2\n",
    "    if terminal(h):\n",
    "        return payout(s,h) * (1 if i == 1 else -1)\n",
    "    I = historyInf(s,h)\n",
    "    ph = 2 if len(h) == 1 else 1\n",
    "    v0 = 0\n",
    "    v0a = {}\n",
    "    for a in actions:\n",
    "        if ph == 1:\n",
    "            v0a[a] = cfr(h,i,t,sigma[t][I][a] * p1, p2)\n",
    "        elif ph == 2:\n",
    "            v0a[a] = cfr(h,i,t,p1,sigma[t][I][a] * p2)\n",
    "        v0 += sigma[t][I][a] * v0a[a]\n",
    "    if ph == i:\n",
    "        for a in actions:\n",
    "\"\"\"\n",
    "\n",
    "    \n",
    "\n",
    "\n",
    "\n"
   ]
  },
  {
   "cell_type": "code",
   "execution_count": 29,
   "metadata": {},
   "outputs": [
    {
     "ename": "SyntaxError",
     "evalue": "invalid syntax (3364287272.py, line 9)",
     "output_type": "error",
     "traceback": [
      "\u001b[0;36m  Cell \u001b[0;32mIn[29], line 9\u001b[0;36m\u001b[0m\n\u001b[0;31m    return sorted(iset, lambda key = len(key))\u001b[0m\n\u001b[0m                                             ^\u001b[0m\n\u001b[0;31mSyntaxError\u001b[0m\u001b[0;31m:\u001b[0m invalid syntax\n"
     ]
    }
   ],
   "source": [
    "def genIset():\n",
    "    iset = []\n",
    "    for i in range(3):\n",
    "        iset.append(str(i))\n",
    "    for i in range(3):\n",
    "        iset.append(\"B\" + str(i))\n",
    "        iset.append(\"P\" + str(i))\n",
    "        iset.append(\"BP\" + str(i))\n",
    "    return sorted(iset)\n",
    "\n",
    "iset = genIset()\n",
    "print(iset)"
   ]
  },
  {
   "cell_type": "code",
   "execution_count": null,
   "metadata": {},
   "outputs": [],
   "source": []
  }
 ],
 "metadata": {
  "kernelspec": {
   "display_name": "base",
   "language": "python",
   "name": "python3"
  },
  "language_info": {
   "codemirror_mode": {
    "name": "ipython",
    "version": 3
   },
   "file_extension": ".py",
   "mimetype": "text/x-python",
   "name": "python",
   "nbconvert_exporter": "python",
   "pygments_lexer": "ipython3",
   "version": "3.11.4"
  }
 },
 "nbformat": 4,
 "nbformat_minor": 2
}
