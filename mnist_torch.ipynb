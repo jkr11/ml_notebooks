{
 "cells": [
  {
   "cell_type": "code",
   "execution_count": 2,
   "metadata": {},
   "outputs": [],
   "source": [
    "import torch\n",
    "import torch.nn as nn\n",
    "import torch.nn.functional as F\n",
    "from torch.utils.data import DataLoader\n",
    "from torchvision import datasets, transforms"
   ]
  },
  {
   "cell_type": "code",
   "execution_count": 4,
   "metadata": {},
   "outputs": [],
   "source": [
    "class MLP(nn.Module):\n",
    "    def __init__(self, input_size: int, hidden_layer: int, output_size: int):\n",
    "        super(MLP, self).__init__()\n",
    "        self.fc1 = nn.Linear(input_size, hidden_layer)\n",
    "        self.fc2 = nn.Linear(hidden_layer, hidden_layer)\n",
    "        self.fc3 = nn.Linear(hidden_layer, output_size)\n",
    "\n",
    "    def forward(self, x):\n",
    "        x = F.relu(self.fc1(x))\n",
    "        x = F.relu(self.fc2(x))\n",
    "        x = self.fc3(x)\n",
    "        return x"
   ]
  },
  {
   "cell_type": "code",
   "execution_count": 5,
   "metadata": {},
   "outputs": [
    {
     "name": "stdout",
     "output_type": "stream",
     "text": [
      "loss at step 0: 2.2983036041259766\n",
      "loss at step 99: 0.5501077771186829\n",
      "loss at step 198: 0.1603282392024994\n",
      "loss at step 297: 0.2581077814102173\n",
      "loss at step 396: 0.32321903109550476\n",
      "loss at step 0: 0.1945410519838333\n",
      "loss at step 99: 0.33502018451690674\n",
      "loss at step 198: 0.06694156676530838\n",
      "loss at step 297: 0.1342238485813141\n",
      "loss at step 396: 0.20925651490688324\n",
      "loss at step 0: 0.13462984561920166\n",
      "loss at step 99: 0.2540038824081421\n",
      "loss at step 198: 0.0426778569817543\n",
      "loss at step 297: 0.08440106362104416\n",
      "loss at step 396: 0.14905934035778046\n",
      "loss at step 0: 0.10024844855070114\n",
      "loss at step 99: 0.19364289939403534\n",
      "loss at step 198: 0.03823189064860344\n",
      "loss at step 297: 0.06804730743169785\n",
      "loss at step 396: 0.11012671887874603\n",
      "loss at step 0: 0.07603234797716141\n",
      "loss at step 99: 0.14328692853450775\n",
      "loss at step 198: 0.03689737617969513\n",
      "loss at step 297: 0.052505794912576675\n",
      "loss at step 396: 0.09012936800718307\n",
      "Accuracy of the model on the 10000 test images: 96.47 %\n"
     ]
    }
   ],
   "source": [
    "NUM_EPOCHS = 5\n",
    "BS = 128\n",
    "\n",
    "if __name__ == \"__main__\": \n",
    "    transform = transforms.ToTensor()\n",
    "    dataset = datasets.MNIST(\"data/\", train=True, download=True, transform=transform)\n",
    "    \n",
    "    train_loader = DataLoader(\n",
    "        dataset=dataset,\n",
    "        batch_size=BS,\n",
    "        shuffle=False,\n",
    "    )\n",
    "    test_loader = DataLoader(\n",
    "        datasets.MNIST(\"data/\", train=False, transform=transform),\n",
    "        batch_size=64,\n",
    "        shuffle=True,\n",
    "    )\n",
    "\n",
    "    model = MLP(input_size=28*28, hidden_layer=64, output_size=10)\n",
    "    criterion = nn.CrossEntropyLoss()\n",
    "    optimizer = torch.optim.Adam(model.parameters(), lr=0.001)\n",
    "\n",
    "    for epoch in range(NUM_EPOCHS):\n",
    "        for i, (images, labels) in enumerate(train_loader):\n",
    "            images = images.view(-1, 28 * 28)\n",
    "            outputs = model(images)\n",
    "            loss = criterion(outputs, labels)\n",
    "            if(i % 99 == 0): \n",
    "                print(f'loss at step {i}: { loss}')\n",
    "            # rescale the loss to be a mean over the global batch size instead of\n",
    "            optimizer.zero_grad()\n",
    "            # compute the gradients locally\n",
    "            loss.backward()\n",
    "            optimizer.step()\n",
    "        \n",
    "    with torch.no_grad():\n",
    "        correct = 0\n",
    "        total = 0\n",
    "        for images, labels in test_loader:\n",
    "            images = images.view(-1, 28 * 28)\n",
    "            outputs = model(images)\n",
    "            _, predicted = torch.max(outputs.data, 1)\n",
    "            total += labels.size(0)\n",
    "            correct += (predicted == labels).sum().item()\n",
    "        print(\n",
    "            \"Accuracy of the model on the {} test images: {} %\".format(\n",
    "                total, 100 * correct / total\n",
    "            ),\n",
    "        )\n"
   ]
  },
  {
   "cell_type": "code",
   "execution_count": null,
   "metadata": {},
   "outputs": [],
   "source": [
    "%matplotlib inline\n",
    "\n"
   ]
  },
  {
   "cell_type": "code",
   "execution_count": null,
   "metadata": {},
   "outputs": [],
   "source": [
    "#Relu: 95.97% GeLu: 96.08%  Tanh + gelu 96.55%  tanh 96.67%"
   ]
  }
 ],
 "metadata": {
  "kernelspec": {
   "display_name": "Python 3",
   "language": "python",
   "name": "python3"
  },
  "language_info": {
   "codemirror_mode": {
    "name": "ipython",
    "version": 3
   },
   "file_extension": ".py",
   "mimetype": "text/x-python",
   "name": "python",
   "nbconvert_exporter": "python",
   "pygments_lexer": "ipython3",
   "version": "3.10.12"
  },
  "orig_nbformat": 4
 },
 "nbformat": 4,
 "nbformat_minor": 2
}
