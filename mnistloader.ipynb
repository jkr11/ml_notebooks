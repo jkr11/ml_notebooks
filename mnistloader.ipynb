{
 "cells": [
  {
   "cell_type": "code",
   "execution_count": null,
   "metadata": {},
   "outputs": [],
   "source": [
    "import functools\n",
    "from functools import partial\n",
    "import math\n",
    "import os\n",
    "import copy\n",
    "\n",
    "import torch\n",
    "import torch.nn.functional as F\n",
    "from torch import nn\n",
    "\n",
    "import torchvision\n",
    "from torchvision import transforms\n",
    "\n",
    "lt_conv_kwargs = {'kernel_size': 3, 'padding': 'same', 'bias': False}\n",
    "\n",
    "batchsize = 1024\n",
    "bias_scaler = 56\n",
    "\n",
    "hyp = {\n",
    "    'opt': {\n",
    "        'bias_lr':        1.64 * bias_scaler/512, \n",
    "        'non_bias_lr':    1.64 / 512,\n",
    "        'bias_decay':     1.08 * 6.45e-4 * batchsize/bias_scaler,\n",
    "        'non_bias_decay': 1.08 * 6.45e-4 * batchsize,\n",
    "        'scaling_factor': 1./9,\n",
    "        'percent_start': .23,\n",
    "        'loss_scale_scaler': 1./128, \n",
    "    },\n",
    "    'misc': {\n",
    "        'ema': {\n",
    "            'epochs': 10, \n",
    "            'decay_base': .95,\n",
    "            'decay_pow': 3.,\n",
    "            'every_n_steps': 5,\n",
    "        },\n",
    "        'device': 'cpu',\n",
    "        'data_location': 'mnist.pt',\n",
    "    }\n",
    "}\n",
    "\n",
    "\n",
    "if not os.path.exists(hyp['misc']['data_location']):\n",
    "\n",
    "        transform = transforms.Compose([\n",
    "            transforms.ToTensor()])\n",
    "\n",
    "        mnist      = torchvision.datasets.MNIST('mnist/', download=True,  train=True,  transform=transform)\n",
    "        mnist_eval = torchvision.datasets.mnist('mnist/', download=false, train=false, transform=transform)\n",
    "\n",
    "        train_dataset_gpu_loader = torch.utils.data.dataloader(mnist, batch_size=len(mnist), drop_last=True,\n",
    "                                                  shuffle=True, num_workers=2, persistent_workers=False)\n",
    "        eval_dataset_gpu_loader = torch.utils.data.DataLoader(mnist_eval, batch_size=len(mnist_eval), drop_last=true,\n",
    "                                                  shuffle=false, num_workers=1, persistent_workers=false)\n",
    "\n",
    "        train_dataset_gpu = {}\n",
    "        eval_dataset_gpu = {}\n",
    "\n",
    "        train_dataset_gpu['images'], train_dataset_gpu['targets'] = [item.to(device=hyp['misc']['device'], non_blocking=True) for item in next(iter(train_dataset_gpu_loader))]\n",
    "        eval_dataset_gpu['images'],  eval_dataset_gpu['targets']  = [item.to(device=hyp['misc']['device'], non_blocking=True) for item in next(iter(eval_dataset_gpu_loader)) ]\n",
    "\n",
    "\n",
    "\n",
    "\n",
    "\n",
    "        data = {\n",
    "            'train': train_dataset_gpu,\n",
    "            'eval': eval_dataset_gpu\n",
    "        }\n",
    "\n",
    "        data['train']['images'] = data['train']['images'].half().requires_grad_(False)\n",
    "        data['eval']['images']  = data['eval']['images'].half().requires_grad_(False)\n",
    "\n",
    "        data['train']['targets'] = F.one_hot(data['train']['targets']).half()\n",
    "        data['eval']['targets'] = F.one_hot(data['eval']['targets']).half()\n",
    "\n",
    "        torch.save(data, hyp['misc']['data_location'])\n",
    "\n",
    "else:\n",
    "    \n",
    "    data = torch.load(hyp['misc']['data_location'])\n",
    "\n"
   ]
  },
  {
   "cell_type": "code",
   "execution_count": 7,
   "metadata": {},
   "outputs": [
    {
     "data": {
      "text/plain": [
       "torch.Size([60000, 28, 28])"
      ]
     },
     "execution_count": 7,
     "metadata": {},
     "output_type": "execute_result"
    }
   ],
   "source": [
    "data['train']['images'].squeeze().shape"
   ]
  },
  {
   "cell_type": "code",
   "execution_count": null,
   "metadata": {},
   "outputs": [],
   "source": []
  }
 ],
 "metadata": {
  "kernelspec": {
   "display_name": "Python 3",
   "language": "python",
   "name": "python3"
  },
  "language_info": {
   "codemirror_mode": {
    "name": "ipython",
    "version": 3
   },
   "file_extension": ".py",
   "mimetype": "text/x-python",
   "name": "python",
   "nbconvert_exporter": "python",
   "pygments_lexer": "ipython3",
   "version": "3.10.12"
  }
 },
 "nbformat": 4,
 "nbformat_minor": 2
}
