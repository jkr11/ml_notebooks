{
 "cells": [
  {
   "cell_type": "code",
   "execution_count": 1,
   "metadata": {},
   "outputs": [
    {
     "name": "stderr",
     "output_type": "stream",
     "text": [
      "2023-10-28 23:55:48.860249: I tensorflow/core/util/port.cc:111] oneDNN custom operations are on. You may see slightly different numerical results due to floating-point round-off errors from different computation orders. To turn them off, set the environment variable `TF_ENABLE_ONEDNN_OPTS=0`.\n",
      "2023-10-28 23:55:53.030230: E tensorflow/compiler/xla/stream_executor/cuda/cuda_dnn.cc:9342] Unable to register cuDNN factory: Attempting to register factory for plugin cuDNN when one has already been registered\n",
      "2023-10-28 23:55:53.030349: E tensorflow/compiler/xla/stream_executor/cuda/cuda_fft.cc:609] Unable to register cuFFT factory: Attempting to register factory for plugin cuFFT when one has already been registered\n",
      "2023-10-28 23:55:53.057150: E tensorflow/compiler/xla/stream_executor/cuda/cuda_blas.cc:1518] Unable to register cuBLAS factory: Attempting to register factory for plugin cuBLAS when one has already been registered\n",
      "2023-10-28 23:55:54.487787: I tensorflow/core/platform/cpu_feature_guard.cc:182] This TensorFlow binary is optimized to use available CPU instructions in performance-critical operations.\n",
      "To enable the following instructions: AVX2 AVX512F AVX512_VNNI FMA, in other operations, rebuild TensorFlow with the appropriate compiler flags.\n",
      "2023-10-28 23:55:59.539269: W tensorflow/compiler/tf2tensorrt/utils/py_utils.cc:38] TF-TRT Warning: Could not find TensorRT\n"
     ]
    }
   ],
   "source": [
    "import torch\n",
    "import torch.nn as nn\n",
    "import torch.optim as optim\n",
    "import numpy as np\n",
    "from tqdm import tqdm\n",
    "from matplotlib import pyplot as plt\n",
    "from keras.datasets.mnist import load_data\n"
   ]
  },
  {
   "cell_type": "code",
   "execution_count": 8,
   "metadata": {},
   "outputs": [],
   "source": [
    "(X_train, y_train), (X_test, y_test) = load_data()"
   ]
  },
  {
   "cell_type": "code",
   "execution_count": 9,
   "metadata": {},
   "outputs": [],
   "source": [
    "def noise(size, dim=100):\n",
    "    return torch.rand((size, dim))\n",
    "\n",
    "\n",
    "class Generator(nn.Module):\n",
    "    def __init__(self, input_dim_z, input_dim_y):\n",
    "        super(Generator, self).__init__()\n",
    "\n",
    "        self.map_z = nn.Sequential(nn.Linear(input_dim_z, 200), nn.ReLU(), )\n",
    "        self.map_y = nn.Sequential(nn.Linear(input_dim_y, 1000), nn.ReLU() ,)\n",
    "        self.hidden = nn.Sequential(nn.Linear(1200, 1200), nn.ReLU(),)\n",
    "        self.final = nn.Sequential(nn.Linear(1200, 784), nn.Sigmoid(), )\n",
    "\n",
    "    def forward(self, y,z):\n",
    "        out = torch.cat(self.map_z(z), self.map_y(y), dim = 1)\n",
    "        out = self.hidden(out)\n",
    "        return self.final(out)\n",
    "\n",
    "class Discriminator(nn.Module):\n",
    "    def __init__(self, input_dim = 28*28, in_x):\n",
    "        super(Discriminator, self).__init__()\n",
    "\n",
    "        self.map_x = nn.Sequential(nn.Linear(input_dim, 240), nn.LeakyReLU())\n",
    "        self.map_y = nn.Sequential(nn.Linear(in_x, 50), nn.LeakyReLU())\n",
    "\n",
    "        \n",
    "\n",
    "\n"
   ]
  },
  {
   "cell_type": "code",
   "execution_count": null,
   "metadata": {},
   "outputs": [],
   "source": []
  }
 ],
 "metadata": {
  "kernelspec": {
   "display_name": "Python 3",
   "language": "python",
   "name": "python3"
  },
  "language_info": {
   "codemirror_mode": {
    "name": "ipython",
    "version": 3
   },
   "file_extension": ".py",
   "mimetype": "text/x-python",
   "name": "python",
   "nbconvert_exporter": "python",
   "pygments_lexer": "ipython3",
   "version": "3.10.12"
  }
 },
 "nbformat": 4,
 "nbformat_minor": 2
}
