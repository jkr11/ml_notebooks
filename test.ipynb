{
 "cells": [
  {
   "cell_type": "code",
   "execution_count": 1,
   "metadata": {},
   "outputs": [
    {
     "name": "stderr",
     "output_type": "stream",
     "text": [
      "2023-11-01 10:46:06.634402: I tensorflow/core/util/port.cc:111] oneDNN custom operations are on. You may see slightly different numerical results due to floating-point round-off errors from different computation orders. To turn them off, set the environment variable `TF_ENABLE_ONEDNN_OPTS=0`.\n",
      "2023-11-01 10:46:08.237216: E tensorflow/compiler/xla/stream_executor/cuda/cuda_dnn.cc:9342] Unable to register cuDNN factory: Attempting to register factory for plugin cuDNN when one has already been registered\n",
      "2023-11-01 10:46:08.237512: E tensorflow/compiler/xla/stream_executor/cuda/cuda_fft.cc:609] Unable to register cuFFT factory: Attempting to register factory for plugin cuFFT when one has already been registered\n",
      "2023-11-01 10:46:08.246307: E tensorflow/compiler/xla/stream_executor/cuda/cuda_blas.cc:1518] Unable to register cuBLAS factory: Attempting to register factory for plugin cuBLAS when one has already been registered\n",
      "2023-11-01 10:46:09.016218: I tensorflow/core/platform/cpu_feature_guard.cc:182] This TensorFlow binary is optimized to use available CPU instructions in performance-critical operations.\n",
      "To enable the following instructions: AVX2 AVX512F AVX512_VNNI FMA, in other operations, rebuild TensorFlow with the appropriate compiler flags.\n",
      "2023-11-01 10:46:15.650128: W tensorflow/compiler/tf2tensorrt/utils/py_utils.cc:38] TF-TRT Warning: Could not find TensorRT\n"
     ]
    }
   ],
   "source": [
    "import tensorflow as tf\n",
    "import numpy as np\n",
    "from tensorflow.keras import optimizers\n",
    "from sklearn.metrics import accuracy_score\n",
    "from tensorflow.keras.datasets import mnist"
   ]
  },
  {
   "cell_type": "code",
   "execution_count": 2,
   "metadata": {},
   "outputs": [
    {
     "name": "stdout",
     "output_type": "stream",
     "text": [
      "(60000, 28, 28, 1) (60000, 10) (10000, 28, 28, 1) (10000, 10)\n"
     ]
    }
   ],
   "source": [
    "(x_train, y_train), (x_test, y_test) = mnist.load_data()\n",
    "\n",
    "y_train=tf.keras.utils.to_categorical(y_train,10)\n",
    "y_test=tf.keras.utils.to_categorical(y_test,10)\n",
    "x_train=np.expand_dims(x_train,axis=-1)\n",
    "x_test=np.expand_dims(x_test,axis=-1)\n",
    "\n",
    "print(x_train.shape, y_train.shape, x_test.shape, y_test.shape)"
   ]
  },
  {
   "cell_type": "code",
   "execution_count": 5,
   "metadata": {},
   "outputs": [],
   "source": [
    "\n",
    "\n",
    "def squeeze_excite_block2D(filters,input):         \n",
    "    print(input.shape)\n",
    "    se = tf.keras.layers.GlobalAveragePooling2D()(input)\n",
    "    print(se.shape)\n",
    "    se = tf.keras.layers.Reshape((1, filters))(se) \n",
    "    print(se.shape)\n",
    "    se = tf.keras.layers.Dense(filters//32, activation='relu')(se)\n",
    "    print(se.shape)\n",
    "    se = tf.keras.layers.Dense(filters, activation='sigmoid')(se)\n",
    "    print(se.shape)\n",
    "    se = tf.keras.layers.multiply([input, se])\n",
    "    print(se.shape)\n",
    "    return se\n",
    "\n"
   ]
  },
  {
   "cell_type": "code",
   "execution_count": 6,
   "metadata": {},
   "outputs": [],
   "source": [
    "datagen = tf.keras.preprocessing.image.ImageDataGenerator(rotation_range=10, width_shift_range=0.1, shear_range=10,\n",
    "                        height_shift_range=0.1, zoom_range=0.2)\n",
    "datagen.fit(x_train)\n",
    "datagen2 = tf.keras.preprocessing.image.ImageDataGenerator()\n",
    "datagen2.fit(x_test)"
   ]
  },
  {
   "cell_type": "code",
   "execution_count": 7,
   "metadata": {},
   "outputs": [],
   "source": [
    "def make_model():\n",
    "        s = tf.keras.Input(shape=x_train.shape[1:]) \n",
    "        print(s.shape)\n",
    "        x = tf.keras.layers.Conv2D(128,(3,3),activation='relu',padding='same')(s)\n",
    "        x = tf.keras.layers.Conv2D(128,(3,3),activation='relu',padding='same')(x)\n",
    "        x = tf.keras.layers.Conv2D(128,(3,3),activation='relu',padding='same')(x)\n",
    "        print(x.shape)\n",
    "        x = tf.keras.layers.BatchNormalization()(x)\n",
    "        print(x.shape)\n",
    "        x = squeeze_excite_block2D(128,x)\n",
    "        print(x.shape)\n",
    "\n",
    "        x = tf.keras.layers.Conv2D(128,(3,3),activation='relu',padding='same')(x)\n",
    "        x = tf.keras.layers.Conv2D(128,(3,3),activation='relu',padding='same')(x)\n",
    "        x = tf.keras.layers.Conv2D(128,(3,3),activation='relu',padding='same')(x)\n",
    "        x = tf.keras.layers.BatchNormalization()(x)\n",
    "        x = squeeze_excite_block2D(128,x)\n",
    "        x = tf.keras.layers.AveragePooling2D(2)(x)\n",
    "\n",
    "\n",
    "        x = tf.keras.layers.Conv2D(128,(3,3),activation='relu',padding='same')(x)\n",
    "        x = tf.keras.layers.Conv2D(128,(3,3),activation='relu',padding='same')(x)\n",
    "        x = tf.keras.layers.Conv2D(128,(3,3),activation='relu',padding='same')(x)\n",
    "        x = tf.keras.layers.BatchNormalization()(x)\n",
    "        x = squeeze_excite_block2D(128,x)\n",
    "        x = tf.keras.layers.AveragePooling2D(2)(x)\n",
    "\n",
    "\n",
    "        x = tf.keras.layers.concatenate([tf.keras.layers.GlobalMaxPooling2D()(x),\n",
    "                                         tf.keras.layers.GlobalAveragePooling2D()(x)])\n",
    "\n",
    "        x = tf.keras.layers.Dense(10,activation='softmax',use_bias=False,\n",
    "                                  kernel_regularizer=tf.keras.regularizers.l1(0.00025))(x) # this make stacking better\n",
    "        return tf.keras.Model(inputs=s, outputs=x)"
   ]
  },
  {
   "cell_type": "code",
   "execution_count": 10,
   "metadata": {},
   "outputs": [
    {
     "name": "stdout",
     "output_type": "stream",
     "text": [
      "(None, 28, 28, 1)\n",
      "(None, 28, 28, 128)\n",
      "(None, 28, 28, 128)\n",
      "(None, 28, 28, 128)\n",
      "(None, 128)\n",
      "(None, 1, 128)\n",
      "(None, 1, 4)\n",
      "(None, 1, 128)\n",
      "(None, 28, 28, 128)\n",
      "(None, 28, 28, 128)\n",
      "(None, 28, 28, 128)\n",
      "(None, 128)\n",
      "(None, 1, 128)\n",
      "(None, 1, 4)\n",
      "(None, 1, 128)\n",
      "(None, 28, 28, 128)\n",
      "(None, 14, 14, 128)\n",
      "(None, 128)\n",
      "(None, 1, 128)\n",
      "(None, 1, 4)\n",
      "(None, 1, 128)\n",
      "(None, 14, 14, 128)\n"
     ]
    }
   ],
   "source": [
    "batch_size=32\n",
    "supermodel=[]\n",
    "for i in range(20):\n",
    "        np.random.seed(i)\n",
    "        model=make_model()                \n",
    "        model.compile(optimizer=optimizers.Adam(learning_rate=0.001), loss='categorical_crossentropy',metrics=['accuracy'])\n",
    "        model.fit(datagen.flow(x_train, y_train, batch_size=batch_size,shuffle=True),\n",
    "                    steps_per_epoch=len(x_train) / batch_size, epochs=13,verbose=0)\n",
    "        model.compile(optimizer=optimizers.Adam(learning_rate=0.0001), loss='categorical_crossentropy',metrics=['accuracy'])\n",
    "        model.fit(datagen.flow(x_train, y_train, batch_size=batch_size,shuffle=True),\n",
    "                    steps_per_epoch=len(x_train) / batch_size, epochs=3,verbose=0)\n",
    "        model.compile(optimizer=optimizers.Adam(learning_rate=0.00001), loss='categorical_crossentropy',metrics=['accuracy'])\n",
    "        model.fit(datagen.flow(x_train, y_train, batch_size=batch_size,shuffle=True),\n",
    "                    steps_per_epoch=len(x_train) / batch_size, epochs=3,verbose=0)\n",
    "        model.fit(x_train, y_train, batch_size=batch_size,shuffle=True, epochs=1,verbose=0)\n",
    "        supermodel.append(model)\n",
    "        print(i,'acc:',accuracy_score(np.argmax(y_test,axis=1),np.argmax(model.predict(x_test),axis=1)))"
   ]
  },
  {
   "cell_type": "code",
   "execution_count": null,
   "metadata": {},
   "outputs": [],
   "source": []
  }
 ],
 "metadata": {
  "kernelspec": {
   "display_name": "Python 3",
   "language": "python",
   "name": "python3"
  },
  "language_info": {
   "codemirror_mode": {
    "name": "ipython",
    "version": 3
   },
   "file_extension": ".py",
   "mimetype": "text/x-python",
   "name": "python",
   "nbconvert_exporter": "python",
   "pygments_lexer": "ipython3",
   "version": "3.10.12"
  }
 },
 "nbformat": 4,
 "nbformat_minor": 2
}
