{
 "cells": [
  {
   "cell_type": "code",
   "execution_count": 1,
   "metadata": {},
   "outputs": [],
   "source": [
    "import torch\n",
    "import torch.nn as nn\n",
    "import torch.nn.functional as F\n",
    "import torch.nn.init as init\n"
   ]
  },
  {
   "cell_type": "code",
   "execution_count": null,
   "metadata": {},
   "outputs": [],
   "source": [
    "class PreNorm(nn.Module): # f^pre\n",
    "    def __init__(self, dim : int, fn): # dim : l, fn : z^l -(fn)-> z^(l+1)\n",
    "        super().__init__()\n",
    "        self.norm = nn.LayerNorm(dim)\n",
    "        self.fn = fn\n",
    "    \n",
    "    def forward(self, x, **kwargs):\n",
    "        return self.fn(self.norm(x), **kwargs)\n",
    "    \n",
    "class FeedForward(nn.Module):\n",
    "    def __init__(self, dim : int, hidden_dim : int, step_size : float = 0.1, droput = 0.):\n",
    "        super().__init__()\n",
    "        self.weight = nn.Parameter(torch.Tensor(dim, dim))\n",
    "        with torch.no_grad: \n",
    "            nn.init.kaiming_uniform_(self.weight)\n",
    "        self.step_size = step_size\n",
    "        self.lmbda = 0.1\n",
    "\n",
    "    def forward(self, x, **kwargs):\n",
    "        Dl = nn.Linear(x, self.weight)\n",
    "        Dl_1 = nn.Linear(Dl, self.weight.t())\n",
    "        D2 = nn.Linear(x, self.weight.t())\n",
    "\n",
    "        return self.step_size(Dl_1 - Dl) * (self.lmbda * self.step_size)\n",
    "\n",
    "            \n",
    "class Attention(nn.Module):\n",
    "    \n",
    "\n"
   ]
  }
 ],
 "metadata": {
  "kernelspec": {
   "display_name": "base",
   "language": "python",
   "name": "python3"
  },
  "language_info": {
   "codemirror_mode": {
    "name": "ipython",
    "version": 3
   },
   "file_extension": ".py",
   "mimetype": "text/x-python",
   "name": "python",
   "nbconvert_exporter": "python",
   "pygments_lexer": "ipython3",
   "version": "3.11.4"
  }
 },
 "nbformat": 4,
 "nbformat_minor": 2
}
