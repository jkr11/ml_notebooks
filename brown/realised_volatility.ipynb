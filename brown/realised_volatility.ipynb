{
 "cells": [
  {
   "cell_type": "code",
   "execution_count": 10,
   "metadata": {},
   "outputs": [],
   "source": [
    "import json\n",
    "import matplotlib.pyplot as plt\n",
    "import pandas as pd\n",
    "import requests\n",
    "import seaborn as sns\n",
    "import os\n",
    "\n",
    "POLYGON_API_KEY = os.getenv(\"polygon_api_key\")\n",
    "HEADERS = {\n",
    "    'Authorization': 'Bearer ' + POLYGON_API_KEY \n",
    "}\n",
    "BASE_URL = 'https://api.polygon.io/v2/aggs'\n"
   ]
  },
  {
   "cell_type": "code",
   "execution_count": 21,
   "metadata": {},
   "outputs": [],
   "source": [
    "def get_fx_pairs_data(pg_tickers):\n",
    "    start = '2023-01-01'\n",
    "    end = '2023-01-31'\n",
    "    multiplier = '1'\n",
    "    timespan = 'minute'\n",
    "    fx_url = f\"range/{multiplier}/{timespan}/{start}/{end}?adjusted=true&sort=asc&limit=50000\"\n",
    "    fx_pairs_dict = {}\n",
    "    for pair in pg_tickers:\n",
    "        response = requests.get(\n",
    "            f\"{BASE_URL}ticker/{pair}/{fx_url}\", \n",
    "            headers=HEADERS\n",
    "        )\n",
    "        print(response)\n",
    "        #fx_pairs_dict[pair] = pd.DataFrame(response['results'])\n",
    "    return fx_pairs_dict\n",
    "\n",
    "\n",
    "def format_fx_pairs(fx_pairs_dict):\n",
    "    for pair in fx_pairs_dict.keys():\n",
    "        fx_pairs_dict[pair]['t'] = pd.to_datetime(fx_pairs_dict[pair]['t'],unit='ms')\n",
    "        fx_pairs_dict[pair] = fx_pairs_dict[pair].set_index('t')\n",
    "    return fx_pairs_dict\n",
    "\n",
    "\n",
    "def create_str_index(fx_pairs_dict):\n",
    "    fx_pairs_str_ind = {}\n",
    "    for pair in fx_pairs_dict.keys():\n",
    "        fx_pairs_str_ind[pair] = fx_pairs_dict[pair].set_index(\n",
    "            fx_pairs_dict[pair].index.to_series().dt.strftime(\n",
    "                '%Y-%m-%d-%H-%M-%S'\n",
    "            )\n",
    "        )\n",
    "    return fx_pairs_str_ind\n",
    "\n",
    "\n",
    "def create_returns_series(fx_pairs_str_ind):\n",
    "    for pair in fx_pairs_str_ind.keys():\n",
    "        fx_pairs_str_ind[pair]['rets'] = fx_pairs_str_ind[pair]['c'].pct_change()\n",
    "    return fx_pairs_str_ind \n"
   ]
  },
  {
   "cell_type": "code",
   "execution_count": 22,
   "metadata": {},
   "outputs": [
    {
     "name": "stdout",
     "output_type": "stream",
     "text": [
      "<Response [404]>\n",
      "<Response [404]>\n"
     ]
    }
   ],
   "source": [
    "pg_tickers = [\"C:EURUSD\", \"C:MXNZAR\"]\n",
    "fx_pairs_dict = get_fx_pairs_data(pg_tickers)\n",
    "formatted_fx_dict = format_fx_pairs(fx_pairs_dict)\n",
    "fx_pairs_str_ind = create_str_index(formatted_fx_dict)\n",
    "fx_returns_dict = create_returns_series(fx_pairs_str_ind) "
   ]
  },
  {
   "cell_type": "code",
   "execution_count": null,
   "metadata": {},
   "outputs": [],
   "source": []
  }
 ],
 "metadata": {
  "kernelspec": {
   "display_name": "base",
   "language": "python",
   "name": "python3"
  },
  "language_info": {
   "codemirror_mode": {
    "name": "ipython",
    "version": 3
   },
   "file_extension": ".py",
   "mimetype": "text/x-python",
   "name": "python",
   "nbconvert_exporter": "python",
   "pygments_lexer": "ipython3",
   "version": "3.11.4"
  }
 },
 "nbformat": 4,
 "nbformat_minor": 2
}
