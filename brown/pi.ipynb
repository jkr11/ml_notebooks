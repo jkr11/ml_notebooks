{
 "cells": [
  {
   "cell_type": "code",
   "execution_count": 11,
   "metadata": {},
   "outputs": [],
   "source": [
    "import random\n",
    "import math\n",
    "def approx(n):\n",
    "    nn = 0\n",
    "    for i in range(n):\n",
    "        x,y = random.random(), random.random()\n",
    "        if math.sqrt(x**2 + y**2) <= 1:\n",
    "            nn+=1\n",
    "    return nn/n * 4"
   ]
  },
  {
   "cell_type": "code",
   "execution_count": 13,
   "metadata": {},
   "outputs": [
    {
     "name": "stdout",
     "output_type": "stream",
     "text": [
      "approximation: 3.2\n",
      "time taken with 10 guesses: 0.00011277198791503906\n",
      "approximation: 3.24\n",
      "time taken with 100 guesses: 3.504753112792969e-05\n",
      "approximation: 3.164\n",
      "time taken with 1000 guesses: 0.0002276897430419922\n",
      "approximation: 3.152\n",
      "time taken with 10000 guesses: 0.0022072792053222656\n",
      "approximation: 3.13908\n",
      "time taken with 100000 guesses: 0.0318598747253418\n",
      "approximation: 3.140212\n",
      "time taken with 1000000 guesses: 0.3079054355621338\n",
      "approximation: 3.141572848\n",
      "time taken with 1000000000 guesses: 290.4603600502014\n"
     ]
    }
   ],
   "source": [
    "import time\n",
    "for i in [10, 100, 1_000, 10_000, 100_000, 1_000_000, 1_000_000_000]:\n",
    "    st = time.time()\n",
    "    print(f\"approximation: {approx(i)}\")\n",
    "    print(f\"time taken with {i} guesses: {time.time() - st}\")\n",
    "    \n"
   ]
  },
  {
   "cell_type": "code",
   "execution_count": 14,
   "metadata": {},
   "outputs": [],
   "source": [
    "def approx_plots(N):\n",
    "    ii ,oo = [], []\n",
    "    n = 0\n",
    "    for i in range(N):\n",
    "        x,y = random.random(), random.random()\n",
    "        if math.sqrt(x**2 + y**2) <= 1:\n",
    "            n+=1\n",
    "            ii.append((x,y))\n",
    "        else: oo.append((x,y))\n",
    "    return n/N * 4, ii, oo\n"
   ]
  },
  {
   "cell_type": "code",
   "execution_count": null,
   "metadata": {},
   "outputs": [],
   "source": []
  }
 ],
 "metadata": {
  "kernelspec": {
   "display_name": "base",
   "language": "python",
   "name": "python3"
  },
  "language_info": {
   "codemirror_mode": {
    "name": "ipython",
    "version": 3
   },
   "file_extension": ".py",
   "mimetype": "text/x-python",
   "name": "python",
   "nbconvert_exporter": "python",
   "pygments_lexer": "ipython3",
   "version": "3.11.4"
  }
 },
 "nbformat": 4,
 "nbformat_minor": 2
}
