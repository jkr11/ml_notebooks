{
 "cells": [
  {
   "cell_type": "code",
   "execution_count": 1,
   "metadata": {},
   "outputs": [],
   "source": [
    "import jax.numpy as jnp\n",
    "from jax import grad, jit, vmap\n",
    "from jax import random"
   ]
  },
  {
   "cell_type": "code",
   "execution_count": 10,
   "metadata": {},
   "outputs": [],
   "source": [
    "def layer_params(m,n,key,scale=1e-2):\n",
    "    w_key, b_key = random.split(key)\n",
    "    return scale * random.normal(w_key, (n,m)), scale * random.normal(b_key, (n,))\n",
    "\n",
    "def init_net_params(shape, key):\n",
    "    keys = random.split(key, len(shape))\n",
    "    return [layer_params(m,n,k) for m,n,k in zip(shape[:-1], shape[1:], keys)]\n",
    "\n",
    "ls = [784, 512, 512, 10]\n",
    "ss=0.01\n",
    "epochs = 8\n",
    "bs = 128\n",
    "dim_out = 10\n",
    "params = init_net_params(ls, random.PRNGKey(0))"
   ]
  },
  {
   "cell_type": "code",
   "execution_count": 11,
   "metadata": {},
   "outputs": [],
   "source": [
    "from jax.scipy.special import logsumexp\n",
    "\n",
    "def relu(x):\n",
    "    return jnp.maximum(0,x)\n",
    "\n",
    "def predict(params, image):\n",
    "    act = image\n",
    "    for w,b in params[:-1]:\n",
    "        out = jnp.dot(w, act) + b\n",
    "        act = relu(out)\n",
    "    fw, fb = params[-1]\n",
    "    logits = jnp.dot(fw, act) + fb\n",
    "    return logits - logsumexp(logits)\n"
   ]
  },
  {
   "cell_type": "code",
   "execution_count": 12,
   "metadata": {},
   "outputs": [
    {
     "name": "stdout",
     "output_type": "stream",
     "text": [
      "(10,)\n"
     ]
    }
   ],
   "source": [
    "rand_image = random.normal(random.PRNGKey(1), (28 * 28,))\n",
    "preds = predict(params, rand_image) \n",
    "print(preds.shape) "
   ]
  },
  {
   "cell_type": "code",
   "execution_count": null,
   "metadata": {},
   "outputs": [],
   "source": []
  }
 ],
 "metadata": {
  "kernelspec": {
   "display_name": "Python 3",
   "language": "python",
   "name": "python3"
  },
  "language_info": {
   "codemirror_mode": {
    "name": "ipython",
    "version": 3
   },
   "file_extension": ".py",
   "mimetype": "text/x-python",
   "name": "python",
   "nbconvert_exporter": "python",
   "pygments_lexer": "ipython3",
   "version": "3.11.4"
  }
 },
 "nbformat": 4,
 "nbformat_minor": 2
}
